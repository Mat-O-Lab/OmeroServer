{
 "cells": [
  {
   "cell_type": "code",
   "execution_count": 15,
   "metadata": {},
   "outputs": [
    {
     "name": "stderr",
     "output_type": "stream",
     "text": [
      "DEBUG:urllib3.connectionpool:Starting new HTTPS connection (1): omero.matolab.org:443\n",
      "DEBUG:urllib3.connectionpool:https://omero.matolab.org:443 \"GET /api/ HTTP/1.1\" 200 77\n",
      "DEBUG:urllib3.connectionpool:https://omero.matolab.org:443 \"GET /api/v0/ HTTP/1.1\" 200 819\n",
      "DEBUG:root:{'url:experimenters': 'https://omero.matolab.org/api/v0/m/experimenters/', 'url:experimentergroups': 'https://omero.matolab.org/api/v0/m/experimentergroups/', 'url:projects': 'https://omero.matolab.org/api/v0/m/projects/', 'url:datasets': 'https://omero.matolab.org/api/v0/m/datasets/', 'url:images': 'https://omero.matolab.org/api/v0/m/images/', 'url:screens': 'https://omero.matolab.org/api/v0/m/screens/', 'url:plates': 'https://omero.matolab.org/api/v0/m/plates/', 'url:rois': 'https://omero.matolab.org/api/v0/m/rois/', 'url:token': 'https://omero.matolab.org/api/v0/token/', 'url:servers': 'https://omero.matolab.org/api/v0/servers/', 'url:login': 'https://omero.matolab.org/api/v0/login/', 'url:save': 'https://omero.matolab.org/api/v0/m/save/', 'url:schema': 'http://www.openmicroscopy.org/Schemas/OME/2016-06'}\n"
     ]
    }
   ],
   "source": [
    "import os\n",
    "import requests\n",
    "import logging\n",
    "import json\n",
    "logging.basicConfig(level=logging.DEBUG)\n",
    "session = requests.Session()\n",
    "web_api='https://omero.matolab.org/api/'\n",
    "#web_api='http://docker-dev.iwm.fraunhofer.de:5007/api/'\n",
    "r = session.get(web_api)\n",
    "#print(r)\n",
    "base_url = r.json()[\"data\"][-1][\"url:base\"]\n",
    "all_urls = session.get(base_url).json()\n",
    "logging.debug(all_urls)"
   ]
  },
  {
   "cell_type": "code",
   "execution_count": 16,
   "metadata": {},
   "outputs": [
    {
     "name": "stderr",
     "output_type": "stream",
     "text": [
      "INFO:root:getting session crsf token at https://omero.matolab.org/api/v0/token/\n",
      "DEBUG:urllib3.connectionpool:https://omero.matolab.org:443 \"GET /api/v0/token/ HTTP/1.1\" 200 76\n",
      "DEBUG:urllib3.connectionpool:https://omero.matolab.org:443 \"GET /api/v0/servers/ HTTP/1.1\" 200 77\n",
      "INFO:root:trying to login at https://omero.matolab.org/api/v0/login/ with given credentials\n",
      "DEBUG:urllib3.connectionpool:https://omero.matolab.org:443 \"POST /api/v0/login/ HTTP/1.1\" 200 284\n",
      "INFO:root:login successful: {'success': True, 'eventContext': {'sessionId': 2400, 'sessionUuid': '5dce81a2-06aa-41b2-9581-8b8c6a243e1b', 'userId': 0, 'userName': 'root', 'groupId': 0, 'groupName': 'system', 'isAdmin': True, 'eventId': -1, 'eventType': 'User', 'memberOfGroups': [0, 1, 3], 'leaderOfGroups': [0]}}\n"
     ]
    }
   ],
   "source": [
    "# get login session crsf token\n",
    "token_url = all_urls[\"url:token\"]\n",
    "logging.info(\"getting session crsf token at {}\".format(token_url))\n",
    "try:\n",
    "   token = session.get(token_url).json()[\"data\"]\n",
    "except Exception:\n",
    "   logging.exception(\"Could not get Token!\")\n",
    "servers_url = all_urls[\"url:servers\"]\n",
    "# geting first server n list of servers\n",
    "servers = session.get(servers_url).json()[\"data\"]\n",
    "#assume only one server is present\n",
    "server = servers[0]\n",
    "\n",
    "login_url = all_urls[\"url:login\"]\n",
    "credentials = {\n",
    "            \"username\": os.getenv('OMERO_WEB_USERNAME',default='root'),\n",
    "               \"password\": os.getenv('OMERO_WEB_PASSWORD', default=os.getenv('OMERO_ROOT_PASS', default='')),\n",
    "               \"csrfmiddlewaretoken\": token,\n",
    "               \"server\": server[\"id\"]\n",
    "            }\n",
    "\n",
    "#login and test connection\n",
    "logging.info(\"trying to login at {} with given credentials\".format(login_url))\n",
    "return_value = session.post(url=login_url,data=credentials,)\n",
    "if return_value.status_code == 200:\n",
    "    logging.info('login successful: {}'.format(return_value.json()))\n",
    "else:\n",
    "    logging.error('login failed: {}'.format(return_value))"
   ]
  },
  {
   "cell_type": "code",
   "execution_count": 17,
   "metadata": {},
   "outputs": [
    {
     "name": "stderr",
     "output_type": "stream",
     "text": [
      "DEBUG:urllib3.connectionpool:https://omero.matolab.org:443 \"GET /api/v0/m/images/ HTTP/1.1\" 200 23053\n",
      "DEBUG:urllib3.connectionpool:https://omero.matolab.org:443 \"GET /api/v0/m/images/1/ HTTP/1.1\" 200 9577\n"
     ]
    },
    {
     "name": "stdout",
     "output_type": "stream",
     "text": [
      "https://omero.matolab.org/api/v0/m/images/1/\n"
     ]
    }
   ],
   "source": [
    "# get image URL\n",
    "images_url = all_urls[\"url:images\"]\n",
    "images_url\n",
    "# get image data\n",
    "images = session.get(images_url).json()\n",
    "# get json data\n",
    "#print(images)\n",
    "for i in images[\"data\"]:\n",
    "            image_url = i[\"url:image\"]\n",
    "            print(image_url)\n",
    "            json_data = session.get(image_url).json()\n",
    "            json_data.update({\"ImageUrl\": image_url})\n",
    "            #f = open(json_data[\"data\"][\"Name\"]+\".json\", \"w\")\n",
    "            f = open(os.path.join(os.getcwd(), json_data[\"data\"][\"Name\"]+\".json\"), \"w\")\n",
    "            f.write(json.dumps(json_data, indent=4, sort_keys=True))\n",
    "            f.close()\n",
    "            break"
   ]
  },
  {
   "cell_type": "code",
   "execution_count": 10,
   "metadata": {},
   "outputs": [
    {
     "data": {
      "text/plain": [
       "True"
      ]
     },
     "execution_count": 10,
     "metadata": {},
     "output_type": "execute_result"
    }
   ],
   "source": [
    "# use blitz gateway\n",
    "import os\n",
    "import json\n",
    "from omero.gateway import BlitzGateway\n",
    "conn = BlitzGateway(\n",
    "    os.getenv('OMERO_WEB_USERNAME',default='root'), \n",
    "    os.getenv('OMERO_WEB_PASSWORD', default=os.getenv('OMERO_ROOT_PASS', default='')),\n",
    "    host=\"wss://wss.omero.matolab.org\",secure=True)\n",
    "\n",
    "conn.connect()"
   ]
  },
  {
   "cell_type": "code",
   "execution_count": null,
   "metadata": {},
   "outputs": [],
   "source": []
  }
 ],
 "metadata": {
  "interpreter": {
   "hash": "eb44d339029bb274c202aaa5766f9b6001383dafed4471f77511231d83223a36"
  },
  "kernelspec": {
   "display_name": "Python 3.9.16 64-bit ('omero': conda)",
   "language": "python",
   "name": "python3"
  },
  "language_info": {
   "codemirror_mode": {
    "name": "ipython",
    "version": 3
   },
   "file_extension": ".py",
   "mimetype": "text/x-python",
   "name": "python",
   "nbconvert_exporter": "python",
   "pygments_lexer": "ipython3",
   "version": "3.9.16"
  },
  "orig_nbformat": 4
 },
 "nbformat": 4,
 "nbformat_minor": 2
}
