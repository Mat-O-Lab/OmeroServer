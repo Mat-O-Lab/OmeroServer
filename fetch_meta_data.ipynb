{
 "cells": [
  {
   "cell_type": "code",
   "execution_count": 22,
   "metadata": {},
   "outputs": [
    {
     "name": "stderr",
     "output_type": "stream",
     "text": [
      "DEBUG:root:test\n",
      "DEBUG:urllib3.connectionpool:Starting new HTTPS connection (1): omero.matolab.org:443\n",
      "DEBUG:urllib3.connectionpool:https://omero.matolab.org:443 \"GET /api/ HTTP/1.1\" 200 77\n",
      "DEBUG:urllib3.connectionpool:https://omero.matolab.org:443 \"GET /api/v0/ HTTP/1.1\" 200 819\n",
      "DEBUG:root:{'url:experimenters': 'https://omero.matolab.org/api/v0/m/experimenters/', 'url:experimentergroups': 'https://omero.matolab.org/api/v0/m/experimentergroups/', 'url:projects': 'https://omero.matolab.org/api/v0/m/projects/', 'url:datasets': 'https://omero.matolab.org/api/v0/m/datasets/', 'url:images': 'https://omero.matolab.org/api/v0/m/images/', 'url:screens': 'https://omero.matolab.org/api/v0/m/screens/', 'url:plates': 'https://omero.matolab.org/api/v0/m/plates/', 'url:rois': 'https://omero.matolab.org/api/v0/m/rois/', 'url:token': 'https://omero.matolab.org/api/v0/token/', 'url:servers': 'https://omero.matolab.org/api/v0/servers/', 'url:login': 'https://omero.matolab.org/api/v0/login/', 'url:save': 'https://omero.matolab.org/api/v0/m/save/', 'url:schema': 'http://www.openmicroscopy.org/Schemas/OME/2016-06'}\n"
     ]
    }
   ],
   "source": [
    "import os\n",
    "import requests\n",
    "import logging\n",
    "logging.basicConfig(level=logging.DEBUG)\n",
    "session = requests.Session()\n",
    "web_api='https://omero.matolab.org/api/'\n",
    "#web_api='http://docker-dev.iwm.fraunhofer.de:5007/api/'\n",
    "r = session.get(web_api)\n",
    "#print(r)\n",
    "base_url = r.json()[\"data\"][-1][\"url:base\"]\n",
    "all_urls = session.get(base_url).json()\n",
    "logging.debug(all_urls)"
   ]
  },
  {
   "cell_type": "code",
   "execution_count": 28,
   "metadata": {},
   "outputs": [
    {
     "ename": "SyntaxError",
     "evalue": "invalid syntax (3430861335.py, line 17)",
     "output_type": "error",
     "traceback": [
      "\u001b[1;36m  Cell \u001b[1;32mIn[28], line 17\u001b[1;36m\u001b[0m\n\u001b[1;33m    \"password\": os.getenv['OMERO_WEB_PASSWORD',default=os.getenv('OMERO_ROOT_PASS',default=''),\u001b[0m\n\u001b[1;37m                                                      ^\u001b[0m\n\u001b[1;31mSyntaxError\u001b[0m\u001b[1;31m:\u001b[0m invalid syntax\n"
     ]
    }
   ],
   "source": [
    "# get login session crsf token\n",
    "token_url = all_urls[\"url:token\"]\n",
    "logging.info(\"getting session crsf token at {} for given credentials\".format(token_url))\n",
    "try:\n",
    "   token = session.get(token_url).json()[\"data\"]\n",
    "except Exception:\n",
    "   logging.exception(\"Could not get Token!\")\n",
    "servers_url = all_urls[\"url:servers\"]\n",
    "# geting first server n list of servers\n",
    "servers = session.get(servers_url).json()[\"data\"]\n",
    "#assume only one server is present\n",
    "server = servers[0]\n",
    "\n",
    "login_url = all_urls[\"url:login\"]\n",
    "credentials = {\n",
    "            \"username\": os.getenv('OMERO_WEB_USERNAME',default='root'),\n",
    "               \"password\": os.getenv['OMERO_WEB_PASSWORD','default'=os.getenv('OMERO_ROOT_PASS','default'=''),\n",
    "               \"csrfmiddlewaretoken\": token,\n",
    "               \"server\": server[\"id\"]\n",
    "            }\n",
    "\n",
    "#login and test connection\n",
    "logging.info(\"trying to login at {} with given credentials\".format(login_url))\n",
    "return_value = session.post(url=login_url,data=credentials,)\n",
    "if return_value.status_code == 200:\n",
    "    logging.info('login successful: {}'.format(return_value.json()))\n",
    "else:\n",
    "    logging.error('login failed: {}'.format(return_value))"
   ]
  },
  {
   "cell_type": "code",
   "execution_count": null,
   "metadata": {},
   "outputs": [],
   "source": []
  }
 ],
 "metadata": {
  "interpreter": {
   "hash": "eb44d339029bb274c202aaa5766f9b6001383dafed4471f77511231d83223a36"
  },
  "kernelspec": {
   "display_name": "Python 3.9.16 64-bit ('omero': conda)",
   "language": "python",
   "name": "python3"
  },
  "language_info": {
   "codemirror_mode": {
    "name": "ipython",
    "version": 3
   },
   "file_extension": ".py",
   "mimetype": "text/x-python",
   "name": "python",
   "nbconvert_exporter": "python",
   "pygments_lexer": "ipython3",
   "version": "3.9.16"
  },
  "orig_nbformat": 4
 },
 "nbformat": 4,
 "nbformat_minor": 2
}
