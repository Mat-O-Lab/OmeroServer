{
 "cells": [
  {
   "cell_type": "code",
   "execution_count": 6,
   "metadata": {},
   "outputs": [
    {
     "data": {
      "text/plain": [
       "False"
      ]
     },
     "execution_count": 6,
     "metadata": {},
     "output_type": "execute_result"
    }
   ],
   "source": [
    "import omero.clients\n",
    "from omero.gateway import BlitzGateway\n",
    "server = 'http://docker-dev.iwm.fraunhofer'\n",
    "username = 'root'\n",
    "password = '1PT6ytkdLgKUU2uqffBt'\n",
    "port ='4064'\n",
    "conn = BlitzGateway(username, password, host=server, port=port)\n",
    "conn.connect()"
   ]
  },
  {
   "cell_type": "code",
   "execution_count": null,
   "metadata": {},
   "outputs": [],
   "source": []
  }
 ],
 "metadata": {
  "interpreter": {
   "hash": "eb44d339029bb274c202aaa5766f9b6001383dafed4471f77511231d83223a36"
  },
  "kernelspec": {
   "display_name": "Python 3.9.16 64-bit ('omero': conda)",
   "language": "python",
   "name": "python3"
  },
  "language_info": {
   "codemirror_mode": {
    "name": "ipython",
    "version": 3
   },
   "file_extension": ".py",
   "mimetype": "text/x-python",
   "name": "python",
   "nbconvert_exporter": "python",
   "pygments_lexer": "ipython3",
   "version": "3.9.16"
  },
  "orig_nbformat": 4
 },
 "nbformat": 4,
 "nbformat_minor": 2
}
